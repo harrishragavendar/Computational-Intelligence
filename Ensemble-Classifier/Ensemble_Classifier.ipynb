{
  "nbformat": 4,
  "nbformat_minor": 0,
  "metadata": {
    "colab": {
      "provenance": []
    },
    "kernelspec": {
      "name": "python3",
      "display_name": "Python 3"
    },
    "language_info": {
      "name": "python"
    }
  },
  "cells": [
    {
      "cell_type": "markdown",
      "source": [
        "---\n",
        "# **Ensemble Classifier**\n",
        "---"
      ],
      "metadata": {
        "id": "5P9UXIp0cI3l"
      }
    },
    {
      "cell_type": "markdown",
      "source": [
        "# Importing the libraries"
      ],
      "metadata": {
        "id": "Jpy-MPOJcQLC"
      }
    },
    {
      "cell_type": "code",
      "execution_count": 58,
      "metadata": {
        "id": "8WnE8UwO4xW6"
      },
      "outputs": [],
      "source": [
        "import numpy as np\n",
        "import pandas as pd\n",
        "from sklearn.datasets import load_iris\n",
        "from sklearn.model_selection import train_test_split\n",
        "from sklearn.tree import DecisionTreeClassifier\n",
        "from sklearn.metrics import accuracy_score, classification_report"
      ]
    },
    {
      "cell_type": "markdown",
      "source": [
        "# Reading the Dataset"
      ],
      "metadata": {
        "id": "ZdfxfKwpcSjp"
      }
    },
    {
      "cell_type": "code",
      "source": [
        "df = pd.read_csv(\"./diabetes.csv\")\n",
        "X = df.drop('Outcome', axis=1)\n",
        "y = df.Outcome"
      ],
      "metadata": {
        "id": "R7HZh0C65Bxi"
      },
      "execution_count": 59,
      "outputs": []
    },
    {
      "cell_type": "markdown",
      "source": [
        "# Split the dataset into training and testing sets"
      ],
      "metadata": {
        "id": "ckQbIKO4eeMk"
      }
    },
    {
      "cell_type": "code",
      "source": [
        "X_train, X_test, y_train, y_test = train_test_split(X, y, test_size=0.2, random_state=42)"
      ],
      "metadata": {
        "id": "s-wutc-O5Jba"
      },
      "execution_count": 60,
      "outputs": []
    },
    {
      "cell_type": "markdown",
      "source": [
        "# Define the number of decision trees in the ensemble classifier (Number of Estimators)"
      ],
      "metadata": {
        "id": "QMbqDikGej51"
      }
    },
    {
      "cell_type": "code",
      "source": [
        "n_estimators = int(input(\"Enter the number of estimators: \"))"
      ],
      "metadata": {
        "colab": {
          "base_uri": "https://localhost:8080/"
        },
        "id": "XitkAu7Q5Nqr",
        "outputId": "56061cff-a39b-4bbe-e6cd-abbb33803fd0"
      },
      "execution_count": 61,
      "outputs": [
        {
          "name": "stdout",
          "output_type": "stream",
          "text": [
            "Enter the number of estimators: 40\n"
          ]
        }
      ]
    },
    {
      "cell_type": "markdown",
      "source": [
        "# Create an array to hold the individual decision tree models (the Ensemble Classifier)"
      ],
      "metadata": {
        "id": "rwheQ6EDeucD"
      }
    },
    {
      "cell_type": "code",
      "source": [
        "decision_trees = []"
      ],
      "metadata": {
        "id": "3tMdBw7r5RNY"
      },
      "execution_count": 62,
      "outputs": []
    },
    {
      "cell_type": "markdown",
      "source": [
        "# Create and train each decision tree"
      ],
      "metadata": {
        "id": "okpGD9JGezOx"
      }
    },
    {
      "cell_type": "code",
      "source": [
        "bootstrap_indices = np.random.choice(len(X_train), size=int(len(X_train)/5), replace=True)"
      ],
      "metadata": {
        "id": "qP47qnGfipzO"
      },
      "execution_count": 63,
      "outputs": []
    },
    {
      "cell_type": "code",
      "source": [
        "for _ in range(n_estimators):\n",
        "    # Create a bootstrap sample of the training data\n",
        "    bootstrap_indices = np.random.choice(len(X_train), size=int(len(X_train)/5), replace=True)\n",
        "    X_bootstrap = X_train.iloc[bootstrap_indices]\n",
        "    y_bootstrap = y_train.iloc[bootstrap_indices]\n",
        "\n",
        "    # Create a Decision Tree classifier and train it on the bootstrap sample\n",
        "    tree = DecisionTreeClassifier(random_state=42)\n",
        "    tree.fit(X_bootstrap, y_bootstrap)\n",
        "\n",
        "    # Add the trained tree to the ensemble classifier\n",
        "    decision_trees.append(tree)"
      ],
      "metadata": {
        "id": "pSlDEIrZ5SEY"
      },
      "execution_count": 64,
      "outputs": []
    },
    {
      "cell_type": "markdown",
      "source": [
        "# Make predictions using each decision tree"
      ],
      "metadata": {
        "id": "nEgGq0QLfL7n"
      }
    },
    {
      "cell_type": "code",
      "source": [
        "predictions = np.zeros((n_estimators, len(X_test)), dtype=int)"
      ],
      "metadata": {
        "id": "azA66XbLfI37"
      },
      "execution_count": 65,
      "outputs": []
    },
    {
      "cell_type": "code",
      "source": [
        "for i, tree in enumerate(decision_trees):\n",
        "    predictions[i, :] = tree.predict(X_test)\n",
        "    accuracy = accuracy_score(y_test, predictions[i, :])\n",
        "    print(\"=================================================\")\n",
        "    print(f\"Accuracy of model {i+1} = {accuracy}\")\n",
        "    print(classification_report(y_test, predictions[i, :]))\n",
        "    print(\"=================================================\\n\")"
      ],
      "metadata": {
        "colab": {
          "base_uri": "https://localhost:8080/"
        },
        "id": "LTqjvLq65dtr",
        "outputId": "520c57ee-6589-4d57-9002-17bad5292f61"
      },
      "execution_count": 66,
      "outputs": [
        {
          "output_type": "stream",
          "name": "stdout",
          "text": [
            "=================================================\n",
            "Accuracy of model 1 = 0.6623376623376623\n",
            "              precision    recall  f1-score   support\n",
            "\n",
            "           0       0.78      0.67      0.72        99\n",
            "           1       0.52      0.65      0.58        55\n",
            "\n",
            "    accuracy                           0.66       154\n",
            "   macro avg       0.65      0.66      0.65       154\n",
            "weighted avg       0.69      0.66      0.67       154\n",
            "\n",
            "=================================================\n",
            "\n",
            "=================================================\n",
            "Accuracy of model 2 = 0.7077922077922078\n",
            "              precision    recall  f1-score   support\n",
            "\n",
            "           0       0.82      0.70      0.75        99\n",
            "           1       0.57      0.73      0.64        55\n",
            "\n",
            "    accuracy                           0.71       154\n",
            "   macro avg       0.70      0.71      0.70       154\n",
            "weighted avg       0.73      0.71      0.71       154\n",
            "\n",
            "=================================================\n",
            "\n",
            "=================================================\n",
            "Accuracy of model 3 = 0.6168831168831169\n",
            "              precision    recall  f1-score   support\n",
            "\n",
            "           0       0.72      0.66      0.69        99\n",
            "           1       0.47      0.55      0.50        55\n",
            "\n",
            "    accuracy                           0.62       154\n",
            "   macro avg       0.60      0.60      0.60       154\n",
            "weighted avg       0.63      0.62      0.62       154\n",
            "\n",
            "=================================================\n",
            "\n",
            "=================================================\n",
            "Accuracy of model 4 = 0.6298701298701299\n",
            "              precision    recall  f1-score   support\n",
            "\n",
            "           0       0.72      0.69      0.70        99\n",
            "           1       0.48      0.53      0.50        55\n",
            "\n",
            "    accuracy                           0.63       154\n",
            "   macro avg       0.60      0.61      0.60       154\n",
            "weighted avg       0.64      0.63      0.63       154\n",
            "\n",
            "=================================================\n",
            "\n",
            "=================================================\n",
            "Accuracy of model 5 = 0.6363636363636364\n",
            "              precision    recall  f1-score   support\n",
            "\n",
            "           0       0.74      0.67      0.70        99\n",
            "           1       0.49      0.58      0.53        55\n",
            "\n",
            "    accuracy                           0.64       154\n",
            "   macro avg       0.62      0.62      0.62       154\n",
            "weighted avg       0.65      0.64      0.64       154\n",
            "\n",
            "=================================================\n",
            "\n",
            "=================================================\n",
            "Accuracy of model 6 = 0.7532467532467533\n",
            "              precision    recall  f1-score   support\n",
            "\n",
            "           0       0.85      0.75      0.80        99\n",
            "           1       0.63      0.76      0.69        55\n",
            "\n",
            "    accuracy                           0.75       154\n",
            "   macro avg       0.74      0.76      0.74       154\n",
            "weighted avg       0.77      0.75      0.76       154\n",
            "\n",
            "=================================================\n",
            "\n",
            "=================================================\n",
            "Accuracy of model 7 = 0.7077922077922078\n",
            "              precision    recall  f1-score   support\n",
            "\n",
            "           0       0.81      0.72      0.76        99\n",
            "           1       0.58      0.69      0.63        55\n",
            "\n",
            "    accuracy                           0.71       154\n",
            "   macro avg       0.69      0.70      0.69       154\n",
            "weighted avg       0.72      0.71      0.71       154\n",
            "\n",
            "=================================================\n",
            "\n",
            "=================================================\n",
            "Accuracy of model 8 = 0.6883116883116883\n",
            "              precision    recall  f1-score   support\n",
            "\n",
            "           0       0.74      0.80      0.77        99\n",
            "           1       0.57      0.49      0.53        55\n",
            "\n",
            "    accuracy                           0.69       154\n",
            "   macro avg       0.66      0.64      0.65       154\n",
            "weighted avg       0.68      0.69      0.68       154\n",
            "\n",
            "=================================================\n",
            "\n",
            "=================================================\n",
            "Accuracy of model 9 = 0.7077922077922078\n",
            "              precision    recall  f1-score   support\n",
            "\n",
            "           0       0.80      0.73      0.76        99\n",
            "           1       0.58      0.67      0.62        55\n",
            "\n",
            "    accuracy                           0.71       154\n",
            "   macro avg       0.69      0.70      0.69       154\n",
            "weighted avg       0.72      0.71      0.71       154\n",
            "\n",
            "=================================================\n",
            "\n",
            "=================================================\n",
            "Accuracy of model 10 = 0.7012987012987013\n",
            "              precision    recall  f1-score   support\n",
            "\n",
            "           0       0.80      0.72      0.76        99\n",
            "           1       0.57      0.67      0.62        55\n",
            "\n",
            "    accuracy                           0.70       154\n",
            "   macro avg       0.68      0.69      0.69       154\n",
            "weighted avg       0.72      0.70      0.71       154\n",
            "\n",
            "=================================================\n",
            "\n",
            "=================================================\n",
            "Accuracy of model 11 = 0.6948051948051948\n",
            "              precision    recall  f1-score   support\n",
            "\n",
            "           0       0.78      0.74      0.76        99\n",
            "           1       0.57      0.62      0.59        55\n",
            "\n",
            "    accuracy                           0.69       154\n",
            "   macro avg       0.67      0.68      0.67       154\n",
            "weighted avg       0.70      0.69      0.70       154\n",
            "\n",
            "=================================================\n",
            "\n",
            "=================================================\n",
            "Accuracy of model 12 = 0.6883116883116883\n",
            "              precision    recall  f1-score   support\n",
            "\n",
            "           0       0.77      0.73      0.75        99\n",
            "           1       0.56      0.62      0.59        55\n",
            "\n",
            "    accuracy                           0.69       154\n",
            "   macro avg       0.67      0.67      0.67       154\n",
            "weighted avg       0.70      0.69      0.69       154\n",
            "\n",
            "=================================================\n",
            "\n",
            "=================================================\n",
            "Accuracy of model 13 = 0.7597402597402597\n",
            "              precision    recall  f1-score   support\n",
            "\n",
            "           0       0.82      0.80      0.81        99\n",
            "           1       0.66      0.69      0.67        55\n",
            "\n",
            "    accuracy                           0.76       154\n",
            "   macro avg       0.74      0.74      0.74       154\n",
            "weighted avg       0.76      0.76      0.76       154\n",
            "\n",
            "=================================================\n",
            "\n",
            "=================================================\n",
            "Accuracy of model 14 = 0.6753246753246753\n",
            "              precision    recall  f1-score   support\n",
            "\n",
            "           0       0.74      0.77      0.75        99\n",
            "           1       0.55      0.51      0.53        55\n",
            "\n",
            "    accuracy                           0.68       154\n",
            "   macro avg       0.64      0.64      0.64       154\n",
            "weighted avg       0.67      0.68      0.67       154\n",
            "\n",
            "=================================================\n",
            "\n",
            "=================================================\n",
            "Accuracy of model 15 = 0.6753246753246753\n",
            "              precision    recall  f1-score   support\n",
            "\n",
            "           0       0.72      0.80      0.76        99\n",
            "           1       0.56      0.45      0.50        55\n",
            "\n",
            "    accuracy                           0.68       154\n",
            "   macro avg       0.64      0.63      0.63       154\n",
            "weighted avg       0.66      0.68      0.67       154\n",
            "\n",
            "=================================================\n",
            "\n",
            "=================================================\n",
            "Accuracy of model 16 = 0.6688311688311688\n",
            "              precision    recall  f1-score   support\n",
            "\n",
            "           0       0.81      0.64      0.71        99\n",
            "           1       0.53      0.73      0.61        55\n",
            "\n",
            "    accuracy                           0.67       154\n",
            "   macro avg       0.67      0.68      0.66       154\n",
            "weighted avg       0.71      0.67      0.68       154\n",
            "\n",
            "=================================================\n",
            "\n",
            "=================================================\n",
            "Accuracy of model 17 = 0.7012987012987013\n",
            "              precision    recall  f1-score   support\n",
            "\n",
            "           0       0.76      0.78      0.77        99\n",
            "           1       0.58      0.56      0.57        55\n",
            "\n",
            "    accuracy                           0.70       154\n",
            "   macro avg       0.67      0.67      0.67       154\n",
            "weighted avg       0.70      0.70      0.70       154\n",
            "\n",
            "=================================================\n",
            "\n",
            "=================================================\n",
            "Accuracy of model 18 = 0.6948051948051948\n",
            "              precision    recall  f1-score   support\n",
            "\n",
            "           0       0.76      0.77      0.76        99\n",
            "           1       0.57      0.56      0.57        55\n",
            "\n",
            "    accuracy                           0.69       154\n",
            "   macro avg       0.67      0.67      0.67       154\n",
            "weighted avg       0.69      0.69      0.69       154\n",
            "\n",
            "=================================================\n",
            "\n",
            "=================================================\n",
            "Accuracy of model 19 = 0.5844155844155844\n",
            "              precision    recall  f1-score   support\n",
            "\n",
            "           0       0.68      0.67      0.67        99\n",
            "           1       0.42      0.44      0.43        55\n",
            "\n",
            "    accuracy                           0.58       154\n",
            "   macro avg       0.55      0.55      0.55       154\n",
            "weighted avg       0.59      0.58      0.59       154\n",
            "\n",
            "=================================================\n",
            "\n",
            "=================================================\n",
            "Accuracy of model 20 = 0.6168831168831169\n",
            "              precision    recall  f1-score   support\n",
            "\n",
            "           0       0.71      0.68      0.69        99\n",
            "           1       0.47      0.51      0.49        55\n",
            "\n",
            "    accuracy                           0.62       154\n",
            "   macro avg       0.59      0.59      0.59       154\n",
            "weighted avg       0.62      0.62      0.62       154\n",
            "\n",
            "=================================================\n",
            "\n",
            "=================================================\n",
            "Accuracy of model 21 = 0.6428571428571429\n",
            "              precision    recall  f1-score   support\n",
            "\n",
            "           0       0.78      0.63      0.69        99\n",
            "           1       0.50      0.67      0.57        55\n",
            "\n",
            "    accuracy                           0.64       154\n",
            "   macro avg       0.64      0.65      0.63       154\n",
            "weighted avg       0.68      0.64      0.65       154\n",
            "\n",
            "=================================================\n",
            "\n",
            "=================================================\n",
            "Accuracy of model 22 = 0.6818181818181818\n",
            "              precision    recall  f1-score   support\n",
            "\n",
            "           0       0.76      0.74      0.75        99\n",
            "           1       0.55      0.58      0.57        55\n",
            "\n",
            "    accuracy                           0.68       154\n",
            "   macro avg       0.66      0.66      0.66       154\n",
            "weighted avg       0.69      0.68      0.68       154\n",
            "\n",
            "=================================================\n",
            "\n",
            "=================================================\n",
            "Accuracy of model 23 = 0.6753246753246753\n",
            "              precision    recall  f1-score   support\n",
            "\n",
            "           0       0.76      0.73      0.74        99\n",
            "           1       0.54      0.58      0.56        55\n",
            "\n",
            "    accuracy                           0.68       154\n",
            "   macro avg       0.65      0.65      0.65       154\n",
            "weighted avg       0.68      0.68      0.68       154\n",
            "\n",
            "=================================================\n",
            "\n",
            "=================================================\n",
            "Accuracy of model 24 = 0.7337662337662337\n",
            "              precision    recall  f1-score   support\n",
            "\n",
            "           0       0.83      0.74      0.78        99\n",
            "           1       0.61      0.73      0.66        55\n",
            "\n",
            "    accuracy                           0.73       154\n",
            "   macro avg       0.72      0.73      0.72       154\n",
            "weighted avg       0.75      0.73      0.74       154\n",
            "\n",
            "=================================================\n",
            "\n",
            "=================================================\n",
            "Accuracy of model 25 = 0.538961038961039\n",
            "              precision    recall  f1-score   support\n",
            "\n",
            "           0       0.66      0.59      0.62        99\n",
            "           1       0.38      0.45      0.41        55\n",
            "\n",
            "    accuracy                           0.54       154\n",
            "   macro avg       0.52      0.52      0.52       154\n",
            "weighted avg       0.56      0.54      0.55       154\n",
            "\n",
            "=================================================\n",
            "\n",
            "=================================================\n",
            "Accuracy of model 26 = 0.6558441558441559\n",
            "              precision    recall  f1-score   support\n",
            "\n",
            "           0       0.79      0.63      0.70        99\n",
            "           1       0.51      0.71      0.60        55\n",
            "\n",
            "    accuracy                           0.66       154\n",
            "   macro avg       0.65      0.67      0.65       154\n",
            "weighted avg       0.69      0.66      0.66       154\n",
            "\n",
            "=================================================\n",
            "\n",
            "=================================================\n",
            "Accuracy of model 27 = 0.6168831168831169\n",
            "              precision    recall  f1-score   support\n",
            "\n",
            "           0       0.67      0.80      0.73        99\n",
            "           1       0.44      0.29      0.35        55\n",
            "\n",
            "    accuracy                           0.62       154\n",
            "   macro avg       0.56      0.54      0.54       154\n",
            "weighted avg       0.59      0.62      0.59       154\n",
            "\n",
            "=================================================\n",
            "\n",
            "=================================================\n",
            "Accuracy of model 28 = 0.6168831168831169\n",
            "              precision    recall  f1-score   support\n",
            "\n",
            "           0       0.74      0.62      0.67        99\n",
            "           1       0.47      0.62      0.54        55\n",
            "\n",
            "    accuracy                           0.62       154\n",
            "   macro avg       0.61      0.62      0.60       154\n",
            "weighted avg       0.65      0.62      0.62       154\n",
            "\n",
            "=================================================\n",
            "\n",
            "=================================================\n",
            "Accuracy of model 29 = 0.6883116883116883\n",
            "              precision    recall  f1-score   support\n",
            "\n",
            "           0       0.74      0.80      0.77        99\n",
            "           1       0.57      0.49      0.53        55\n",
            "\n",
            "    accuracy                           0.69       154\n",
            "   macro avg       0.66      0.64      0.65       154\n",
            "weighted avg       0.68      0.69      0.68       154\n",
            "\n",
            "=================================================\n",
            "\n",
            "=================================================\n",
            "Accuracy of model 30 = 0.7012987012987013\n",
            "              precision    recall  f1-score   support\n",
            "\n",
            "           0       0.77      0.76      0.77        99\n",
            "           1       0.58      0.60      0.59        55\n",
            "\n",
            "    accuracy                           0.70       154\n",
            "   macro avg       0.68      0.68      0.68       154\n",
            "weighted avg       0.70      0.70      0.70       154\n",
            "\n",
            "=================================================\n",
            "\n",
            "=================================================\n",
            "Accuracy of model 31 = 0.6818181818181818\n",
            "              precision    recall  f1-score   support\n",
            "\n",
            "           0       0.82      0.65      0.72        99\n",
            "           1       0.54      0.75      0.63        55\n",
            "\n",
            "    accuracy                           0.68       154\n",
            "   macro avg       0.68      0.70      0.67       154\n",
            "weighted avg       0.72      0.68      0.69       154\n",
            "\n",
            "=================================================\n",
            "\n",
            "=================================================\n",
            "Accuracy of model 32 = 0.6688311688311688\n",
            "              precision    recall  f1-score   support\n",
            "\n",
            "           0       0.73      0.77      0.75        99\n",
            "           1       0.54      0.49      0.51        55\n",
            "\n",
            "    accuracy                           0.67       154\n",
            "   macro avg       0.64      0.63      0.63       154\n",
            "weighted avg       0.66      0.67      0.67       154\n",
            "\n",
            "=================================================\n",
            "\n",
            "=================================================\n",
            "Accuracy of model 33 = 0.6363636363636364\n",
            "              precision    recall  f1-score   support\n",
            "\n",
            "           0       0.70      0.76      0.73        99\n",
            "           1       0.49      0.42      0.45        55\n",
            "\n",
            "    accuracy                           0.64       154\n",
            "   macro avg       0.60      0.59      0.59       154\n",
            "weighted avg       0.63      0.64      0.63       154\n",
            "\n",
            "=================================================\n",
            "\n",
            "=================================================\n",
            "Accuracy of model 34 = 0.6493506493506493\n",
            "              precision    recall  f1-score   support\n",
            "\n",
            "           0       0.79      0.62      0.69        99\n",
            "           1       0.51      0.71      0.59        55\n",
            "\n",
            "    accuracy                           0.65       154\n",
            "   macro avg       0.65      0.66      0.64       154\n",
            "weighted avg       0.69      0.65      0.66       154\n",
            "\n",
            "=================================================\n",
            "\n",
            "=================================================\n",
            "Accuracy of model 35 = 0.6558441558441559\n",
            "              precision    recall  f1-score   support\n",
            "\n",
            "           0       0.74      0.72      0.73        99\n",
            "           1       0.52      0.55      0.53        55\n",
            "\n",
            "    accuracy                           0.66       154\n",
            "   macro avg       0.63      0.63      0.63       154\n",
            "weighted avg       0.66      0.66      0.66       154\n",
            "\n",
            "=================================================\n",
            "\n",
            "=================================================\n",
            "Accuracy of model 36 = 0.6363636363636364\n",
            "              precision    recall  f1-score   support\n",
            "\n",
            "           0       0.72      0.72      0.72        99\n",
            "           1       0.49      0.49      0.49        55\n",
            "\n",
            "    accuracy                           0.64       154\n",
            "   macro avg       0.60      0.60      0.60       154\n",
            "weighted avg       0.64      0.64      0.64       154\n",
            "\n",
            "=================================================\n",
            "\n",
            "=================================================\n",
            "Accuracy of model 37 = 0.6753246753246753\n",
            "              precision    recall  f1-score   support\n",
            "\n",
            "           0       0.72      0.81      0.76        99\n",
            "           1       0.56      0.44      0.49        55\n",
            "\n",
            "    accuracy                           0.68       154\n",
            "   macro avg       0.64      0.62      0.63       154\n",
            "weighted avg       0.66      0.68      0.66       154\n",
            "\n",
            "=================================================\n",
            "\n",
            "=================================================\n",
            "Accuracy of model 38 = 0.7012987012987013\n",
            "              precision    recall  f1-score   support\n",
            "\n",
            "           0       0.77      0.77      0.77        99\n",
            "           1       0.58      0.58      0.58        55\n",
            "\n",
            "    accuracy                           0.70       154\n",
            "   macro avg       0.67      0.67      0.67       154\n",
            "weighted avg       0.70      0.70      0.70       154\n",
            "\n",
            "=================================================\n",
            "\n",
            "=================================================\n",
            "Accuracy of model 39 = 0.6753246753246753\n",
            "              precision    recall  f1-score   support\n",
            "\n",
            "           0       0.75      0.74      0.74        99\n",
            "           1       0.54      0.56      0.55        55\n",
            "\n",
            "    accuracy                           0.68       154\n",
            "   macro avg       0.65      0.65      0.65       154\n",
            "weighted avg       0.68      0.68      0.68       154\n",
            "\n",
            "=================================================\n",
            "\n",
            "=================================================\n",
            "Accuracy of model 40 = 0.6233766233766234\n",
            "              precision    recall  f1-score   support\n",
            "\n",
            "           0       0.74      0.64      0.68        99\n",
            "           1       0.48      0.60      0.53        55\n",
            "\n",
            "    accuracy                           0.62       154\n",
            "   macro avg       0.61      0.62      0.61       154\n",
            "weighted avg       0.65      0.62      0.63       154\n",
            "\n",
            "=================================================\n",
            "\n"
          ]
        }
      ]
    },
    {
      "cell_type": "markdown",
      "source": [
        "# Take a majority vote to make the final prediction"
      ],
      "metadata": {
        "id": "hK80Y1I-fDGq"
      }
    },
    {
      "cell_type": "code",
      "source": [
        "final_predictions = np.apply_along_axis(lambda x: np.bincount(x).argmax(), axis=0, arr=predictions)"
      ],
      "metadata": {
        "id": "sr2Wgx6LfFqY"
      },
      "execution_count": 67,
      "outputs": []
    },
    {
      "cell_type": "markdown",
      "source": [
        "# Accuracy and Classification Report of the Ensemble Model"
      ],
      "metadata": {
        "id": "9ehFtLNQfcfG"
      }
    },
    {
      "cell_type": "code",
      "source": [
        "accuracy = accuracy_score(y_test, final_predictions)"
      ],
      "metadata": {
        "id": "9qTyAt_f8ltK"
      },
      "execution_count": 68,
      "outputs": []
    },
    {
      "cell_type": "code",
      "source": [
        "print(\"*************************************************\")\n",
        "print(f\"Accuracy of the Ensemble Classifier = {accuracy}\")\n",
        "print(classification_report(y_test, final_predictions))\n",
        "print(\"*************************************************\")"
      ],
      "metadata": {
        "colab": {
          "base_uri": "https://localhost:8080/"
        },
        "id": "g8Wwoy3Sfloa",
        "outputId": "cea0d176-e858-47d3-b80d-0ba9a39e73bd"
      },
      "execution_count": 69,
      "outputs": [
        {
          "output_type": "stream",
          "name": "stdout",
          "text": [
            "*************************************************\n",
            "Accuracy of the Ensemble Classifier = 0.7467532467532467\n",
            "              precision    recall  f1-score   support\n",
            "\n",
            "           0       0.79      0.82      0.81        99\n",
            "           1       0.65      0.62      0.64        55\n",
            "\n",
            "    accuracy                           0.75       154\n",
            "   macro avg       0.72      0.72      0.72       154\n",
            "weighted avg       0.74      0.75      0.75       154\n",
            "\n",
            "*************************************************\n"
          ]
        }
      ]
    },
    {
      "cell_type": "markdown",
      "source": [
        "---"
      ],
      "metadata": {
        "id": "JwO57f8wcOP7"
      }
    }
  ]
}