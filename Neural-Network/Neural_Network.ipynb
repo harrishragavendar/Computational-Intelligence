{
  "nbformat": 4,
  "nbformat_minor": 0,
  "metadata": {
    "colab": {
      "provenance": []
    },
    "kernelspec": {
      "name": "python3",
      "display_name": "Python 3"
    },
    "language_info": {
      "name": "python"
    }
  },
  "cells": [
    {
      "cell_type": "markdown",
      "source": [
        "---\n",
        "# **Neural Network - Single Layer Perceptron**\n",
        "---"
      ],
      "metadata": {
        "id": "LMVFqnVaSbCA"
      }
    },
    {
      "cell_type": "markdown",
      "source": [
        "# Importing the Libraries"
      ],
      "metadata": {
        "id": "bqEDTWOoSjCo"
      }
    },
    {
      "cell_type": "code",
      "execution_count": 24,
      "metadata": {
        "id": "xaLewbCWR3PP"
      },
      "outputs": [],
      "source": [
        "import math"
      ]
    },
    {
      "cell_type": "markdown",
      "source": [
        "# Binary Activation Function"
      ],
      "metadata": {
        "id": "tWKi3HqFWGS2"
      }
    },
    {
      "cell_type": "code",
      "source": [
        "def binary(yin, th):\n",
        "    if(yin >= th):\n",
        "        return 1\n",
        "    else:\n",
        "        return 0"
      ],
      "metadata": {
        "id": "uscC4WSCWJWm"
      },
      "execution_count": 25,
      "outputs": []
    },
    {
      "cell_type": "markdown",
      "source": [
        "# Bipolar Activation Function"
      ],
      "metadata": {
        "id": "g9v7KHRjWLz0"
      }
    },
    {
      "cell_type": "code",
      "source": [
        "def bipolar(yin, th):\n",
        "    if(yin >= th):\n",
        "        return 1\n",
        "    else:\n",
        "        return -1"
      ],
      "metadata": {
        "id": "1Lt4TtV8WPNb"
      },
      "execution_count": 26,
      "outputs": []
    },
    {
      "cell_type": "markdown",
      "source": [
        "# Sigmoid Activation Function"
      ],
      "metadata": {
        "id": "ECyw06CzWNmO"
      }
    },
    {
      "cell_type": "code",
      "source": [
        "def sigmoid(yin, th):\n",
        "    val = 1/(1+ math.exp(-yin))\n",
        "    if(val >= th):\n",
        "        return 1\n",
        "    else:\n",
        "        return 0"
      ],
      "metadata": {
        "id": "eoh6E8-RWSkV"
      },
      "execution_count": 27,
      "outputs": []
    },
    {
      "cell_type": "markdown",
      "source": [
        "# Defining the Perceptron"
      ],
      "metadata": {
        "id": "wocPcNUSS6e-"
      }
    },
    {
      "cell_type": "code",
      "source": [
        "class Perceptron:\n",
        "    def __init__(self, w, b, a, th, activation):\n",
        "        self.w = w                      # Weights\n",
        "        self.b = b                      # Bias\n",
        "        self.a = a                      # Learning Rate\n",
        "        self.th = th                    # Threshold\n",
        "        self.activation = activation    # Activation Function\n",
        "\n",
        "    def weighted_sum(self, x):\n",
        "        yin = self.b\n",
        "        for i in range(len(x)):\n",
        "            yin += self.w[i] * x[i]\n",
        "        return round(yin, 3)\n",
        "\n",
        "    def print_wb(self):\n",
        "        print(\"Weights \", end=\"\")\n",
        "        for i in range(len(self.w)):\n",
        "            print(f\"w{i} = {round(self.w[i], 3)}\", end=\" \")\n",
        "        print(f\"Bias b = {round(self.b, 3)}\")\n",
        "\n",
        "    def update_wb(self, x, t):\n",
        "        for i in range(len(x)):\n",
        "            self.w[i] = self.w[i] + (self.a * t * x[i])\n",
        "        self.b = self.b + self.a * t\n",
        "\n",
        "    def train(self, x, t, epochs):\n",
        "        for j in range(epochs):\n",
        "            print(f\"==========Epoch {j+1}==========\")\n",
        "            for i in range(len(x)):\n",
        "                print(f\"Input = {x[i]}\")\n",
        "                yin = self.weighted_sum(x[i])\n",
        "                y = self.activation(yin, self.th)\n",
        "                print(f\"yin = {yin} | y = {y} | target = {t[i]}\")\n",
        "                if(y==t[i]):\n",
        "                    print(\"No updation, \", end=\"\")\n",
        "                    self.print_wb()\n",
        "                else:\n",
        "                    self.update_wb(x[i], t[i])\n",
        "                    print(\"Weights updated, \",end=\"\")\n",
        "                    self.print_wb()\n",
        "                print()\n",
        "            print(\"================================\\n\\n\")\n",
        "        print(\"==========Perceptron trained==========\")\n",
        "        print(\"** Final weights are, \",end = \"\")\n",
        "        self.print_wb()\n",
        "        print(\"======================================\")"
      ],
      "metadata": {
        "id": "D0qZMCK7S-Z2"
      },
      "execution_count": 28,
      "outputs": []
    },
    {
      "cell_type": "markdown",
      "source": [
        "# Training the Perceptron"
      ],
      "metadata": {
        "id": "pdDDCub3X7QA"
      }
    },
    {
      "cell_type": "markdown",
      "source": [
        "# 1) AND Gate - Bipolar inputs and outputs, using bipolar activation function"
      ],
      "metadata": {
        "id": "VNxrAASwWcaE"
      }
    },
    {
      "cell_type": "code",
      "source": [
        "w = [0.3, 0.4]\n",
        "b = 0\n",
        "a = 1\n",
        "th = 0\n",
        "x = [[-1,-1],[-1,1],[1,-1],[1,1]]\n",
        "t = [-1,-1,-1,1]\n",
        "epochs = 3"
      ],
      "metadata": {
        "id": "cYBmYwKfTGpf"
      },
      "execution_count": 29,
      "outputs": []
    },
    {
      "cell_type": "code",
      "source": [
        "p1 = Perceptron(w, b, a, th, activation=bipolar)\n",
        "p1.train(x, t, epochs)"
      ],
      "metadata": {
        "colab": {
          "base_uri": "https://localhost:8080/"
        },
        "id": "tkfBm5VDWpDt",
        "outputId": "33f50458-6745-46b4-9abd-dbd0abd8e969"
      },
      "execution_count": 30,
      "outputs": [
        {
          "output_type": "stream",
          "name": "stdout",
          "text": [
            "==========Epoch 1==========\n",
            "Input = [-1, -1]\n",
            "yin = -0.7 | y = -1 | target = -1\n",
            "No updation, Weights w0 = 0.3 w1 = 0.4 Bias b = 0\n",
            "\n",
            "Input = [-1, 1]\n",
            "yin = 0.1 | y = 1 | target = -1\n",
            "Weights updated, Weights w0 = 1.3 w1 = -0.6 Bias b = -1\n",
            "\n",
            "Input = [1, -1]\n",
            "yin = 0.9 | y = 1 | target = -1\n",
            "Weights updated, Weights w0 = 0.3 w1 = 0.4 Bias b = -2\n",
            "\n",
            "Input = [1, 1]\n",
            "yin = -1.3 | y = -1 | target = 1\n",
            "Weights updated, Weights w0 = 1.3 w1 = 1.4 Bias b = -1\n",
            "\n",
            "================================\n",
            "\n",
            "\n",
            "==========Epoch 2==========\n",
            "Input = [-1, -1]\n",
            "yin = -3.7 | y = -1 | target = -1\n",
            "No updation, Weights w0 = 1.3 w1 = 1.4 Bias b = -1\n",
            "\n",
            "Input = [-1, 1]\n",
            "yin = -0.9 | y = -1 | target = -1\n",
            "No updation, Weights w0 = 1.3 w1 = 1.4 Bias b = -1\n",
            "\n",
            "Input = [1, -1]\n",
            "yin = -1.1 | y = -1 | target = -1\n",
            "No updation, Weights w0 = 1.3 w1 = 1.4 Bias b = -1\n",
            "\n",
            "Input = [1, 1]\n",
            "yin = 1.7 | y = 1 | target = 1\n",
            "No updation, Weights w0 = 1.3 w1 = 1.4 Bias b = -1\n",
            "\n",
            "================================\n",
            "\n",
            "\n",
            "==========Epoch 3==========\n",
            "Input = [-1, -1]\n",
            "yin = -3.7 | y = -1 | target = -1\n",
            "No updation, Weights w0 = 1.3 w1 = 1.4 Bias b = -1\n",
            "\n",
            "Input = [-1, 1]\n",
            "yin = -0.9 | y = -1 | target = -1\n",
            "No updation, Weights w0 = 1.3 w1 = 1.4 Bias b = -1\n",
            "\n",
            "Input = [1, -1]\n",
            "yin = -1.1 | y = -1 | target = -1\n",
            "No updation, Weights w0 = 1.3 w1 = 1.4 Bias b = -1\n",
            "\n",
            "Input = [1, 1]\n",
            "yin = 1.7 | y = 1 | target = 1\n",
            "No updation, Weights w0 = 1.3 w1 = 1.4 Bias b = -1\n",
            "\n",
            "================================\n",
            "\n",
            "\n",
            "==========Perceptron trained==========\n",
            "** Final weights are, Weights w0 = 1.3 w1 = 1.4 Bias b = -1\n",
            "======================================\n"
          ]
        }
      ]
    },
    {
      "cell_type": "markdown",
      "source": [
        "# 2) OR Gate - Binary inputs and outputs, using binary activation function"
      ],
      "metadata": {
        "id": "yomcHtpDWwer"
      }
    },
    {
      "cell_type": "code",
      "source": [
        "w = [0, 0]\n",
        "b = 0\n",
        "a = 0.5\n",
        "th = 1\n",
        "x = [[0,0],[0,1],[1,0],[1,1]]\n",
        "t = [0,1,1,1]\n",
        "epochs = 3"
      ],
      "metadata": {
        "id": "Y71qFT-vW0xW"
      },
      "execution_count": 31,
      "outputs": []
    },
    {
      "cell_type": "code",
      "source": [
        "p2 = Perceptron(w, b, a, th, activation=binary)\n",
        "p2.train(x, t, epochs)"
      ],
      "metadata": {
        "colab": {
          "base_uri": "https://localhost:8080/"
        },
        "id": "1p8UDnOdWsoj",
        "outputId": "bfbb28a9-c768-4855-e2df-6430153e04b0"
      },
      "execution_count": 32,
      "outputs": [
        {
          "output_type": "stream",
          "name": "stdout",
          "text": [
            "==========Epoch 1==========\n",
            "Input = [0, 0]\n",
            "yin = 0 | y = 0 | target = 0\n",
            "No updation, Weights w0 = 0 w1 = 0 Bias b = 0\n",
            "\n",
            "Input = [0, 1]\n",
            "yin = 0 | y = 0 | target = 1\n",
            "Weights updated, Weights w0 = 0.0 w1 = 0.5 Bias b = 0.5\n",
            "\n",
            "Input = [1, 0]\n",
            "yin = 0.5 | y = 0 | target = 1\n",
            "Weights updated, Weights w0 = 0.5 w1 = 0.5 Bias b = 1.0\n",
            "\n",
            "Input = [1, 1]\n",
            "yin = 2.0 | y = 1 | target = 1\n",
            "No updation, Weights w0 = 0.5 w1 = 0.5 Bias b = 1.0\n",
            "\n",
            "================================\n",
            "\n",
            "\n",
            "==========Epoch 2==========\n",
            "Input = [0, 0]\n",
            "yin = 1.0 | y = 1 | target = 0\n",
            "Weights updated, Weights w0 = 0.5 w1 = 0.5 Bias b = 1.0\n",
            "\n",
            "Input = [0, 1]\n",
            "yin = 1.5 | y = 1 | target = 1\n",
            "No updation, Weights w0 = 0.5 w1 = 0.5 Bias b = 1.0\n",
            "\n",
            "Input = [1, 0]\n",
            "yin = 1.5 | y = 1 | target = 1\n",
            "No updation, Weights w0 = 0.5 w1 = 0.5 Bias b = 1.0\n",
            "\n",
            "Input = [1, 1]\n",
            "yin = 2.0 | y = 1 | target = 1\n",
            "No updation, Weights w0 = 0.5 w1 = 0.5 Bias b = 1.0\n",
            "\n",
            "================================\n",
            "\n",
            "\n",
            "==========Epoch 3==========\n",
            "Input = [0, 0]\n",
            "yin = 1.0 | y = 1 | target = 0\n",
            "Weights updated, Weights w0 = 0.5 w1 = 0.5 Bias b = 1.0\n",
            "\n",
            "Input = [0, 1]\n",
            "yin = 1.5 | y = 1 | target = 1\n",
            "No updation, Weights w0 = 0.5 w1 = 0.5 Bias b = 1.0\n",
            "\n",
            "Input = [1, 0]\n",
            "yin = 1.5 | y = 1 | target = 1\n",
            "No updation, Weights w0 = 0.5 w1 = 0.5 Bias b = 1.0\n",
            "\n",
            "Input = [1, 1]\n",
            "yin = 2.0 | y = 1 | target = 1\n",
            "No updation, Weights w0 = 0.5 w1 = 0.5 Bias b = 1.0\n",
            "\n",
            "================================\n",
            "\n",
            "\n",
            "==========Perceptron trained==========\n",
            "** Final weights are, Weights w0 = 0.5 w1 = 0.5 Bias b = 1.0\n",
            "======================================\n"
          ]
        }
      ]
    },
    {
      "cell_type": "markdown",
      "source": [
        "## 3) Find the weights required to perform the following classifications using perceptron network. The vectors [1,1,-1,-1] and [1,-1,1,-1] are belonging to the class 1, vector [-1,-1,-1,1] and [-1,-1,1,1] are belonging to the class -1. Assume learning rate 1 and initial weights as 0."
      ],
      "metadata": {
        "id": "QjSh59qrW5iV"
      }
    },
    {
      "cell_type": "code",
      "source": [
        "w = [0, 0, 0, 0]\n",
        "b = 0\n",
        "a = 1\n",
        "th = 0\n",
        "x = [[-1,-1,1,1],[-1,-1,-1,1],[1,-1,1,-1],[1,1,-1,-1]]\n",
        "t = [-1,-1,1,1]\n",
        "epochs = 3\n",
        "p3 = Perceptron(w, b, a, th, activation=bipolar)\n",
        "p3.train(x, t, epochs)"
      ],
      "metadata": {
        "colab": {
          "base_uri": "https://localhost:8080/"
        },
        "id": "fJ75fI7aXk2g",
        "outputId": "df70afed-f12c-467a-adbc-5f2ea310efb5"
      },
      "execution_count": 33,
      "outputs": [
        {
          "output_type": "stream",
          "name": "stdout",
          "text": [
            "==========Epoch 1==========\n",
            "Input = [-1, -1, 1, 1]\n",
            "yin = 0 | y = 1 | target = -1\n",
            "Weights updated, Weights w0 = 1 w1 = 1 w2 = -1 w3 = -1 Bias b = -1\n",
            "\n",
            "Input = [-1, -1, -1, 1]\n",
            "yin = -3 | y = -1 | target = -1\n",
            "No updation, Weights w0 = 1 w1 = 1 w2 = -1 w3 = -1 Bias b = -1\n",
            "\n",
            "Input = [1, -1, 1, -1]\n",
            "yin = -1 | y = -1 | target = 1\n",
            "Weights updated, Weights w0 = 2 w1 = 0 w2 = 0 w3 = -2 Bias b = 0\n",
            "\n",
            "Input = [1, 1, -1, -1]\n",
            "yin = 4 | y = 1 | target = 1\n",
            "No updation, Weights w0 = 2 w1 = 0 w2 = 0 w3 = -2 Bias b = 0\n",
            "\n",
            "================================\n",
            "\n",
            "\n",
            "==========Epoch 2==========\n",
            "Input = [-1, -1, 1, 1]\n",
            "yin = -4 | y = -1 | target = -1\n",
            "No updation, Weights w0 = 2 w1 = 0 w2 = 0 w3 = -2 Bias b = 0\n",
            "\n",
            "Input = [-1, -1, -1, 1]\n",
            "yin = -4 | y = -1 | target = -1\n",
            "No updation, Weights w0 = 2 w1 = 0 w2 = 0 w3 = -2 Bias b = 0\n",
            "\n",
            "Input = [1, -1, 1, -1]\n",
            "yin = 4 | y = 1 | target = 1\n",
            "No updation, Weights w0 = 2 w1 = 0 w2 = 0 w3 = -2 Bias b = 0\n",
            "\n",
            "Input = [1, 1, -1, -1]\n",
            "yin = 4 | y = 1 | target = 1\n",
            "No updation, Weights w0 = 2 w1 = 0 w2 = 0 w3 = -2 Bias b = 0\n",
            "\n",
            "================================\n",
            "\n",
            "\n",
            "==========Epoch 3==========\n",
            "Input = [-1, -1, 1, 1]\n",
            "yin = -4 | y = -1 | target = -1\n",
            "No updation, Weights w0 = 2 w1 = 0 w2 = 0 w3 = -2 Bias b = 0\n",
            "\n",
            "Input = [-1, -1, -1, 1]\n",
            "yin = -4 | y = -1 | target = -1\n",
            "No updation, Weights w0 = 2 w1 = 0 w2 = 0 w3 = -2 Bias b = 0\n",
            "\n",
            "Input = [1, -1, 1, -1]\n",
            "yin = 4 | y = 1 | target = 1\n",
            "No updation, Weights w0 = 2 w1 = 0 w2 = 0 w3 = -2 Bias b = 0\n",
            "\n",
            "Input = [1, 1, -1, -1]\n",
            "yin = 4 | y = 1 | target = 1\n",
            "No updation, Weights w0 = 2 w1 = 0 w2 = 0 w3 = -2 Bias b = 0\n",
            "\n",
            "================================\n",
            "\n",
            "\n",
            "==========Perceptron trained==========\n",
            "** Final weights are, Weights w0 = 2 w1 = 0 w2 = 0 w3 = -2 Bias b = 0\n",
            "======================================\n"
          ]
        }
      ]
    },
    {
      "cell_type": "markdown",
      "source": [
        "---"
      ],
      "metadata": {
        "id": "0tINlw_DSzjh"
      }
    }
  ]
}