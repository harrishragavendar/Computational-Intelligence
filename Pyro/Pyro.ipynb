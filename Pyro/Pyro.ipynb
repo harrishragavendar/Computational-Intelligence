{
  "cells": [
    {
      "cell_type": "markdown",
      "source": [
        "---\n",
        "# **Pyro**\n",
        "---"
      ],
      "metadata": {
        "id": "a30E6RoecWoj"
      }
    },
    {
      "cell_type": "markdown",
      "metadata": {
        "id": "Tr-AVhn_4Wp5"
      },
      "source": [
        "# Importing the Libraries"
      ]
    },
    {
      "cell_type": "code",
      "execution_count": 9,
      "metadata": {
        "id": "h5rLjWV5xpzG"
      },
      "outputs": [],
      "source": [
        "# !pip install pyro-ppl"
      ]
    },
    {
      "cell_type": "code",
      "execution_count": 10,
      "metadata": {
        "id": "R5JV4j6Jx0dk"
      },
      "outputs": [],
      "source": [
        "import pyro\n",
        "import matplotlib.pyplot as plt\n",
        "import seaborn as sns\n",
        "import pyro.distributions as distrib"
      ]
    },
    {
      "cell_type": "markdown",
      "source": [
        "## 1) a) Single Sample Distribution"
      ],
      "metadata": {
        "id": "veEsyegm6DHh"
      }
    },
    {
      "cell_type": "code",
      "source": [
        "normal_dist = distrib.Normal(loc=0.5, scale=1)\n",
        "vals=[]\n",
        "for i in range(200):\n",
        "  vals.append(pyro.sample(\"Normal Distribution\", normal_dist))\n",
        "print(f\"Normal Distribution {[round(float(val), 2) for val in vals[0:20]]}\")"
      ],
      "metadata": {
        "colab": {
          "base_uri": "https://localhost:8080/"
        },
        "id": "zMSG1oi7nGcJ",
        "outputId": "9ff65138-cc6c-4645-80e5-4335637cb845"
      },
      "execution_count": 11,
      "outputs": [
        {
          "output_type": "stream",
          "name": "stdout",
          "text": [
            "Normal Distribution [1.5, 0.92, 0.14, -0.05, 0.44, 0.48, 1.26, 0.52, -0.67, 0.39, 0.28, 0.3, -1.82, -0.14, -0.2, 1.32, 1.16, 0.41, 2.03, 0.89]\n"
          ]
        }
      ]
    },
    {
      "cell_type": "markdown",
      "source": [
        "## b) 10 Distributions"
      ],
      "metadata": {
        "id": "2pl9Sres6I3J"
      }
    },
    {
      "cell_type": "code",
      "execution_count": 12,
      "metadata": {
        "colab": {
          "base_uri": "https://localhost:8080/"
        },
        "id": "cVSVO0J5uP7O",
        "outputId": "4cd4263c-d7b4-4b27-c251-f546109bf1fb",
        "scrolled": false
      },
      "outputs": [
        {
          "output_type": "stream",
          "name": "stdout",
          "text": [
            "Normal Distribution[0.25, 0.66, 1.72, 0.65, -1.35, 2.36, 0.86, 0.46, -2.19, 1.31, 2.82, -1.56, 0.15, 0.22, -0.29, 1.19, 0.35, 0.64, -0.39, -0.44]\n",
            "Laplace Distribution[0.68, 0.98, 0.88, 0.89, 0.91, 0.75, 0.88, 1.01, 0.92, 0.9, 0.82, 0.85, 0.79, 1.07, 1.02, 0.74, 0.9, 0.7, 1.05, 0.95]\n",
            "LogNormal Distribution[1.77, 0.86, 1.82, 2.94, 1.95, 3.49, 1.63, 1.02, 1.86, 1.69, 0.37, 1.06, 1.41, 3.37, 1.28, 0.74, 4.14, 1.46, 1.58, 2.55]\n",
            "Binomial Distribution[1.0, 0.0, 1.0, 0.0, 0.0, 0.0, 0.0, 0.0, 1.0, 0.0, 0.0, 0.0, 0.0, 1.0, 0.0, 0.0, 0.0, 0.0, 1.0, 1.0]\n",
            "Geometric Distribution[0.0, 0.0, 4.0, 0.0, 7.0, 2.0, 3.0, 1.0, 0.0, 3.0, 1.0, 1.0, 0.0, 3.0, 1.0, 2.0, 0.0, 1.0, 0.0, 1.0]\n",
            "Bernoulli Distribution[1.0, 0.0, 0.0, 1.0, 0.0, 1.0, 1.0, 0.0, 0.0, 1.0, 1.0, 1.0, 0.0, 0.0, 0.0, 0.0, 0.0, 0.0, 0.0, 0.0]\n",
            "Poisson Distribution[0.0, 0.0, 0.0, 1.0, 0.0, 1.0, 1.0, 1.0, 1.0, 0.0, 1.0, 2.0, 0.0, 0.0, 0.0, 1.0, 1.0, 2.0, 0.0, 1.0]\n",
            "Exponential Distribution[7.12, 1.93, 1.25, 0.45, 8.42, 4.56, 20.63, 13.53, 1.91, 7.03, 4.51, 1.49, 4.19, 1.36, 12.47, 13.94, 20.73, 2.37, 0.51, 1.99]\n",
            "Gamma Distribution[0.0, 0.0, 0.0, 0.01, 0.11, 0.03, 0.0, 1.0, 0.06, 0.0, 0.0, 0.0, 0.98, 0.0, 0.0, 0.0, 0.03, 0.0, 0.02, 1.04]\n",
            "Beta Distribution[0.41, 0.49, 0.27, 0.42, 0.41, 0.41, 0.31, 0.36, 0.4, 0.53, 0.39, 0.47, 0.4, 0.31, 0.34, 0.52, 0.56, 0.39, 0.48, 0.44]\n",
            "Uniform Distribution[6.42, 4.98, 6.34, 3.92, 6.77, 3.53, 3.99, 5.09, 4.9, 5.04, 5.88, 6.93, 3.01, 5.71, 5.48, 6.67, 3.45, 3.92, 4.47, 6.47]\n"
          ]
        }
      ],
      "source": [
        "distribution_names = [\"Normal Distribution\", \"Laplace Distribution\", \"LogNormal Distribution\",\n",
        "                      \"Binomial Distribution\" , \"Geometric Distribution\" , \"Bernoulli Distribution\",\n",
        "                      \"Poisson Distribution\", \"Exponential Distribution\", \"Gamma Distribution\",\n",
        "                      \"Beta Distribution\", \"Uniform Distribution\"]\n",
        "distributions = [\n",
        "           distrib.Normal(loc=0.5, scale=1),#gaussian distribution\n",
        "           distrib.Laplace(loc=0.9, scale=0.1),\n",
        "           distrib.LogNormal(loc=0.4, scale=0.5),\n",
        "\n",
        "           distrib.Binomial(probs=0.3),\n",
        "           distrib.Geometric(probs=0.4),\n",
        "           distrib.Bernoulli(probs=0.4),\n",
        "\n",
        "           distrib.Poisson(rate=0.6),\n",
        "           distrib.Exponential(rate=0.2),\n",
        "\n",
        "           distrib.Gamma(concentration=0.1, rate=0.7),\n",
        "           distrib.Beta(concentration1=10, concentration0=15),\n",
        "\n",
        "           distrib.Uniform(low=3, high=7)\n",
        "           ]\n",
        "for i,j in enumerate(distributions):\n",
        "    vals = []\n",
        "    for k in range(200):\n",
        "        vals.append(pyro.sample(distribution_names[i], j))\n",
        "        # Use if plotting is asked\n",
        "        # plt.grid()\n",
        "        # sns.distplot(vals)\n",
        "        # plt.show()\n",
        "    print(f\"{distribution_names[i]}{[round(float(val), 2) for val in vals[0:20]]}\")"
      ]
    },
    {
      "cell_type": "markdown",
      "metadata": {
        "id": "XoCzgWnt4Wp-"
      },
      "source": [
        "# 2) Weather Model for Cloudy and Not Cloudy days"
      ]
    },
    {
      "cell_type": "markdown",
      "source": [
        "## Function to generate weather value for a single day"
      ],
      "metadata": {
        "id": "HNluJg9Ic00C"
      }
    },
    {
      "cell_type": "code",
      "execution_count": 13,
      "metadata": {
        "id": "GDtDgsmfx3BP"
      },
      "outputs": [],
      "source": [
        "def weather():\n",
        "    mean = {\"cloudy\":30, \"not_cloudy\":50}\n",
        "    std = {\"cloudy\":10.4, \"not_cloudy\":25.5}\n",
        "\n",
        "    cloudy = pyro.sample(\"cloudy\", distrib.Bernoulli(probs=0.4))\n",
        "    if(cloudy >0.5):\n",
        "        actual = \"cloudy\"\n",
        "    else:\n",
        "        actual=\"not_cloudy\"\n",
        "\n",
        "    return actual, pyro.sample(\"Normal Distribution\", distrib.Normal(mean[actual], std[actual]))"
      ]
    },
    {
      "cell_type": "markdown",
      "source": [
        "## Generate Weather distribution for 100 days"
      ],
      "metadata": {
        "id": "EoKbZZQecv-n"
      }
    },
    {
      "cell_type": "code",
      "execution_count": 14,
      "metadata": {
        "id": "23QkKVvpGQuF"
      },
      "outputs": [],
      "source": [
        "cloudy_vals = []\n",
        "not_cloudy_vals = []\n",
        "\n",
        "for i in range(100):\n",
        "    temp = weather()\n",
        "    if(temp[0]=='cloudy'):\n",
        "        cloudy_vals.append(temp[1])\n",
        "    else:\n",
        "        not_cloudy_vals.append(temp[1])"
      ]
    },
    {
      "cell_type": "markdown",
      "source": [
        "## Cloudy Days"
      ],
      "metadata": {
        "id": "vXZjElBecqgZ"
      }
    },
    {
      "cell_type": "code",
      "execution_count": 15,
      "metadata": {
        "colab": {
          "base_uri": "https://localhost:8080/"
        },
        "id": "yK3ckNjQ9jrO",
        "outputId": "0ca9079c-1405-4196-81b6-7f797eefdd44"
      },
      "outputs": [
        {
          "output_type": "stream",
          "name": "stdout",
          "text": [
            "Cloudy Days: [17.09, 34.54, 20.02, 14.19, 32.21, 26.18, 25.24, 15.71, 20.63, 21.0, 35.13, 20.16, 22.05, 36.23, 42.28, 38.22, 23.45, 24.14, 21.57, 21.52]\n"
          ]
        }
      ],
      "source": [
        "print(f\"Cloudy Days: {[round(float(val), 2) for val in cloudy_vals[0:20]]}\")"
      ]
    },
    {
      "cell_type": "markdown",
      "source": [
        "## Not Cloudy Days"
      ],
      "metadata": {
        "id": "d0oKAncqctTJ"
      }
    },
    {
      "cell_type": "code",
      "source": [
        "print(f\"Not Cloudy Days: {[round(float(val), 2) for val in not_cloudy_vals[0:20]]}\")"
      ],
      "metadata": {
        "colab": {
          "base_uri": "https://localhost:8080/"
        },
        "id": "Bh3N2McKkolo",
        "outputId": "ca719ab3-2bbd-4ea6-9431-8e0bb0f7e931"
      },
      "execution_count": 16,
      "outputs": [
        {
          "output_type": "stream",
          "name": "stdout",
          "text": [
            "Not Cloudy Days: [43.06, 48.3, 82.63, 39.15, 45.2, 29.44, 35.73, 43.47, 34.9, 87.08, 62.0, 26.16, 83.25, 35.13, 40.91, 63.2, 61.67, 49.63, 58.81, 28.47]\n"
          ]
        }
      ]
    },
    {
      "cell_type": "markdown",
      "source": [
        "---"
      ],
      "metadata": {
        "id": "Y7RLRWvacpMf"
      }
    }
  ],
  "metadata": {
    "colab": {
      "provenance": []
    },
    "kernelspec": {
      "display_name": "Python 3 (ipykernel)",
      "language": "python",
      "name": "python3"
    },
    "language_info": {
      "codemirror_mode": {
        "name": "ipython",
        "version": 3
      },
      "file_extension": ".py",
      "mimetype": "text/x-python",
      "name": "python",
      "nbconvert_exporter": "python",
      "pygments_lexer": "ipython3",
      "version": "3.9.7"
    }
  },
  "nbformat": 4,
  "nbformat_minor": 0
}