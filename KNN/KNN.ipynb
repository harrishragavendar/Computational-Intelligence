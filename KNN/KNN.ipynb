{
  "nbformat": 4,
  "nbformat_minor": 0,
  "metadata": {
    "colab": {
      "provenance": []
    },
    "kernelspec": {
      "name": "python3",
      "display_name": "Python 3"
    },
    "language_info": {
      "name": "python"
    }
  },
  "cells": [
    {
      "cell_type": "markdown",
      "source": [
        "---\n",
        "# **K-Nearest Neighbours Algorithm**\n",
        "---"
      ],
      "metadata": {
        "id": "mNRJAR9FbqW0"
      }
    },
    {
      "cell_type": "markdown",
      "source": [
        "# Importing the needed libraries"
      ],
      "metadata": {
        "id": "0q-pbly99QZI"
      }
    },
    {
      "cell_type": "code",
      "execution_count": 1,
      "metadata": {
        "id": "AJmoEDKW9H7X"
      },
      "outputs": [],
      "source": [
        "import pandas as pd\n",
        "import math"
      ]
    },
    {
      "cell_type": "markdown",
      "source": [
        "# Function to calculate Euclidean distance between two points, which are represented as lists, rounded to three decimal-points"
      ],
      "metadata": {
        "id": "Ms4UJ0zQ9S2X"
      }
    },
    {
      "cell_type": "code",
      "source": [
        "def euclidean_distance(point1, point2):\n",
        "    distance = 0\n",
        "    for i in range(len(point1)):\n",
        "        distance += (float(point1[i]) - float(point2[i])) ** 2\n",
        "    return round(math.sqrt(distance),3)"
      ],
      "metadata": {
        "id": "3pQc0ueZ9WN_"
      },
      "execution_count": 2,
      "outputs": []
    },
    {
      "cell_type": "markdown",
      "source": [
        "# KNN Function"
      ],
      "metadata": {
        "id": "SSAB5FxB9aHQ"
      }
    },
    {
      "cell_type": "code",
      "source": [
        "def knn(train_points, test_point, k):\n",
        "    table = [] # Output table of KNN\n",
        "    for row in train_points:\n",
        "        dist = euclidean_distance(row[:-1], test_point) # -1 specifies that we exclude the target column\n",
        "        table.append((row[:-1], test_point, dist, row[-1]))\n",
        "    # Append the train point, test point, distance and class of train point to each row of the table\n",
        "    table.sort(key=lambda x: x[2])  # Sort the table in ascending order of distances\n",
        "\n",
        "    class_count = {} # To count each class\n",
        "\n",
        "    # Display the table\n",
        "    print(\"=========================K-Nearest Points=========================\")\n",
        "    print(\"Point\\t\\tTest Point\\t\\tDistance\\tClass\")\n",
        "    for i in range(k):\n",
        "        print(f\"{table[i][0]}\\t{table[i][1]}\\t{table[i][2]}\\t\\t{table[i][3]}\")\n",
        "        label = table[i][3]  # Last column is the target\n",
        "        if label in class_count: # If class is already present, increment its count\n",
        "            class_count[label] += 1\n",
        "        else:\n",
        "            class_count[label] = 1\n",
        "    print(\"==================================================================\")\n",
        "\n",
        "    # Displaying the class count\n",
        "    print(\"======================\")\n",
        "    for class_name, count in class_count.items():\n",
        "        print(f\"Class: {class_name} | Count: {count}\")\n",
        "    print(\"======================\")\n",
        "\n",
        "    # Most occuring class among the K nearest points, is the predicted target\n",
        "    predicted_label = max(class_count, key=class_count.get)\n",
        "    return predicted_label"
      ],
      "metadata": {
        "id": "ortrjIk39dnw"
      },
      "execution_count": 3,
      "outputs": []
    },
    {
      "cell_type": "markdown",
      "source": [
        "# Reading the Dataset"
      ],
      "metadata": {
        "id": "pvwyid1z9wRx"
      }
    },
    {
      "cell_type": "code",
      "source": [
        "df = pd.read_csv(\"https://raw.githubusercontent.com/harrishragavendar/Datasets/main/diabetes.csv\")"
      ],
      "metadata": {
        "id": "12emfYJi9zFW"
      },
      "execution_count": 4,
      "outputs": []
    },
    {
      "cell_type": "markdown",
      "source": [
        "# Selection of features"
      ],
      "metadata": {
        "id": "YTzH4jXY934O"
      }
    },
    {
      "cell_type": "code",
      "source": [
        "print(\"======Available features======\")\n",
        "for index, feature in enumerate(df.columns[:-1]):\n",
        "    print(f\"{index} -> {feature}\")\n",
        "print(\"==============================\")\n",
        "feature_indices = input(\"Enter selected features indices: \").split(',')"
      ],
      "metadata": {
        "colab": {
          "base_uri": "https://localhost:8080/"
        },
        "id": "_xJR2hIL9692",
        "outputId": "4f2e281d-97ca-438c-9436-ae7d0d19adf9"
      },
      "execution_count": 5,
      "outputs": [
        {
          "name": "stdout",
          "output_type": "stream",
          "text": [
            "======Available features======\n",
            "0 -> Pregnancies\n",
            "1 -> Glucose\n",
            "2 -> BloodPressure\n",
            "3 -> SkinThickness\n",
            "4 -> Insulin\n",
            "5 -> BMI\n",
            "6 -> DiabetesPedigreeFunction\n",
            "7 -> Age\n",
            "==============================\n",
            "Enter selected features indices: 0,1,2\n"
          ]
        }
      ]
    },
    {
      "cell_type": "markdown",
      "source": [
        "# Retrieving the column names from indices"
      ],
      "metadata": {
        "id": "wSbmBuU-9-DG"
      }
    },
    {
      "cell_type": "code",
      "source": [
        "selected_features = [df.columns[int(index)] for index in feature_indices]\n",
        "print(f\"Selected features are {selected_features}\")"
      ],
      "metadata": {
        "colab": {
          "base_uri": "https://localhost:8080/"
        },
        "id": "gvZzx1Ia-CLE",
        "outputId": "638dd8ab-0fc0-4113-a776-edc4e0abb9e2"
      },
      "execution_count": 6,
      "outputs": [
        {
          "output_type": "stream",
          "name": "stdout",
          "text": [
            "Selected features are ['Pregnancies', 'Glucose', 'BloodPressure']\n"
          ]
        }
      ]
    },
    {
      "cell_type": "markdown",
      "source": [
        "# Also, select the target column, for counting classes at the end\n",
        "# This will not be used for training"
      ],
      "metadata": {
        "id": "5g46qlFI-cRM"
      }
    },
    {
      "cell_type": "code",
      "source": [
        "selected_features.append(df.columns[-1])"
      ],
      "metadata": {
        "id": "o_RFzomx-d80"
      },
      "execution_count": 7,
      "outputs": []
    },
    {
      "cell_type": "markdown",
      "source": [
        "# Extract the selected columns, with all rows from the dataframe and convert each row to a list of values, ultimately a list of points [ [ ],[ ],[ ],...]"
      ],
      "metadata": {
        "id": "fjtbVWo1-gLl"
      }
    },
    {
      "cell_type": "code",
      "source": [
        "train_points = df.loc[:, selected_features].values.tolist()"
      ],
      "metadata": {
        "id": "0KW1T2pm-w3a"
      },
      "execution_count": 8,
      "outputs": []
    },
    {
      "cell_type": "code",
      "source": [
        "while(True):\n",
        "    print(\"========MENU========\")\n",
        "    print(\"1 > Test new point\")\n",
        "    print(\"2 > Exit\")\n",
        "    print(\"====================\")\n",
        "    ch = int(input(\"Enter your choice: \"))\n",
        "\n",
        "    if(ch==1):\n",
        "        # Get the test point as input\n",
        "        test_point = []\n",
        "        for feature in selected_features[:-1]:\n",
        "            value = float(input(f\"Enter value for {feature}: \"))\n",
        "            test_point.append(value)\n",
        "        print(f\"Test point: {test_point}\")\n",
        "\n",
        "        k = int(input(\"Enter the value of K: \"))\n",
        "        predicted_target = knn(train_points, test_point, k)\n",
        "        print(f\"\\nPredicted Target: {predicted_target}\")\n",
        "    elif(ch==2):\n",
        "        break\n",
        "    else:\n",
        "        print(\"Enter a valid choice.\")"
      ],
      "metadata": {
        "colab": {
          "base_uri": "https://localhost:8080/"
        },
        "id": "_ERW-u2S-1fz",
        "outputId": "97be7645-e9fb-481c-98d1-bd5eeda3bca5"
      },
      "execution_count": 9,
      "outputs": [
        {
          "name": "stdout",
          "output_type": "stream",
          "text": [
            "========MENU========\n",
            "1 > Test new point\n",
            "2 > Exit\n",
            "====================\n",
            "Enter your choice: 1\n",
            "Enter value for Pregnancies: 3\n",
            "Enter value for Glucose: 124\n",
            "Enter value for BloodPressure: 76\n",
            "Test point: [3.0, 124.0, 76.0]\n",
            "Enter the value of K: 5\n",
            "=========================K-Nearest Points=========================\n",
            "Point\t\tTest Point\t\tDistance\tClass\n",
            "[2, 122, 76]\t[3.0, 124.0, 76.0]\t2.236\t\t0\n",
            "[5, 124, 74]\t[3.0, 124.0, 76.0]\t2.828\t\t1\n",
            "[3, 122, 78]\t[3.0, 124.0, 76.0]\t2.828\t\t0\n",
            "[1, 124, 74]\t[3.0, 124.0, 76.0]\t2.828\t\t0\n",
            "[5, 123, 74]\t[3.0, 124.0, 76.0]\t3.0\t\t0\n",
            "==================================================================\n",
            "======================\n",
            "Class: 0 | Count: 4\n",
            "Class: 1 | Count: 1\n",
            "======================\n",
            "\n",
            "Predicted Target: 0\n",
            "========MENU========\n",
            "1 > Test new point\n",
            "2 > Exit\n",
            "====================\n",
            "Enter your choice: 2\n"
          ]
        }
      ]
    },
    {
      "cell_type": "markdown",
      "source": [
        "---"
      ],
      "metadata": {
        "id": "Yw7g_UI5bn3z"
      }
    }
  ]
}